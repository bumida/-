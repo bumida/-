{
 "cells": [
  {
   "cell_type": "markdown",
   "id": "fixed-myanmar",
   "metadata": {},
   "source": [
    "# 문제\n",
    "findKim 함수(메소드)는 String형 배열 seoul을 매개변수로 받습니다.\n",
    "seoul의 element중 “Kim”의 위치 x를 찾아, “김서방은 x에 있다”는 String을 반환하세요. seoul에 “Kim”은 오직 한 번만 나타나며 잘못된 값이 입력되는 경우는 없습니다."
   ]
  },
  {
   "cell_type": "code",
   "execution_count": 3,
   "id": "sealed-comparative",
   "metadata": {},
   "outputs": [
    {
     "name": "stdout",
     "output_type": "stream",
     "text": [
      "김서방은 1에 있다\n"
     ]
    }
   ],
   "source": [
    "def findKim(seoul):\n",
    "    kimIdx = seoul.index('Kim')\n",
    "    return \"김서방은 {}에 있다\".format(kimIdx)\n",
    "#index()메소드를 통해 특정 매개변수의 index값을 받을수 있다.\n",
    "\n",
    "#출력문\n",
    "print(findKim([\"seoul\", \"Kim\", \"busan\", \"china\"]))"
   ]
  },
  {
   "cell_type": "code",
   "execution_count": null,
   "id": "american-tribute",
   "metadata": {},
   "outputs": [],
   "source": []
  }
 ],
 "metadata": {
  "kernelspec": {
   "display_name": "Python 3",
   "language": "python",
   "name": "python3"
  },
  "language_info": {
   "codemirror_mode": {
    "name": "ipython",
    "version": 3
   },
   "file_extension": ".py",
   "mimetype": "text/x-python",
   "name": "python",
   "nbconvert_exporter": "python",
   "pygments_lexer": "ipython3",
   "version": "3.8.8"
  }
 },
 "nbformat": 4,
 "nbformat_minor": 5
}

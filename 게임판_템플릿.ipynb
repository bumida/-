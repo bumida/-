{
 "cells": [
  {
   "cell_type": "code",
   "execution_count": 64,
   "id": "brutal-experience",
   "metadata": {},
   "outputs": [],
   "source": [
    "import pygame # 1. pygame 선언\n",
    "import random\n",
    "\n",
    "pygame.init() # 2. pygame 초기화\n",
    "\n",
    "# 3. pygame에 사용되는 전역변수 선언\n",
    "\n",
    "WHITE = (255, 255, 255)\n",
    "size = [400, 400]\n",
    "screen = pygame.display.set_mode(size)\n",
    "\n",
    "done = False\n",
    "clock = pygame.time.Clock()\n",
    "\n",
    "# 4. pygame 무한루프\n",
    "def runGame():\n",
    "    global done\n",
    "    while not done:\n",
    "        clock.tick(10)\n",
    "        screen.fill(WHITE)\n",
    "        \n",
    "        for event in pygame.event.get():\n",
    "            if event.type == pygame.QUIT:\n",
    "                done=True\n",
    "\n",
    "        ############################\n",
    "        # 여기에 도형을 그리세요\n",
    "        ############################\n",
    "      # where = screen, color=(0, 0, 255), rect = (x,y,width,height)\n",
    "       # pygame.draw.rect(screen, (6, 2, 255), (0, 0, 200, 100), 2) \n",
    "       # pygame.draw.rect(screen, (0, 0, 0), (0, 200, 200, 100), 3)\n",
    "       # pygame.draw.circle(screen, (0,0,255),(100, 200), 30, 1)\n",
    "       # pygame.draw.circle(screen, (0,0,255),(160,200), 30, 2)\n",
    "       # pygame.draw.circle(screen, (0,0,255),(220,200), 30, 3)\n",
    "       # pygame.draw.line(screen, (255, 0, 0), (0, 0), (200, 0))\n",
    "       # pygame.draw.line(screen, (255, 0, 0), (0, 20), (200, 20), 3)\n",
    "       # pygame.draw.line(screen, (255, 0, 0), (0, 40), (200, 40), 6)\n",
    "\n",
    "       # pygame.display.update()\n",
    "\n",
    "#runGame()\n",
    "#pygame.quit()\n",
    "   # for i in range(0 , 4) :\n",
    "      #  pygame.draw.line(screen, (255, 0, 0), (0, 0), (60, 0), 3)\n",
    "      #  pygame.draw.line(screen, (255, 0, 0), (0, 20), (60, 20), 3)\n",
    "      #  pygame.draw.line(screen, (255, 0, 0), (0, 40), (60, 40), 3)\n",
    "      #   pygame.draw.line(screen, (255, 0, 0), (0, 60), (60, 60), 3)\n",
    "\n",
    "#세로선\n",
    "      #  pygame.draw.line(screen, (255, 0, 0), (0, 0), (0, 60), 3)\n",
    "      #  pygame.draw.line(screen, (255, 0, 0), (20, 0), (20, 60), 3)\n",
    "      #  pygame.draw.line(screen, (255, 0, 0), (40, 0), (40, 60), 3)\n",
    "      #  pygame.draw.line(screen, (255, 0, 0), (60, 0), (60, 60), 3)\n",
    "        sky = pygame.image.load('backgrounds/Background.png')\n",
    "        heart = pygame.image.load('backgrounds/heart.png')\n",
    "        castle = pygame.image.load('backgrounds/castle.png')\n",
    "        player = pygame.image.load('backgrounds/Player_Attack_R.png')\n",
    "        ground = pygame.image.load('backgrounds/Ground.png')\n",
    "# sky_rect = sky.get_rect()\n",
    "# print(sky_rect)\n",
    "        sky = pygame.transform.scale(sky, (400, 300))\n",
    "        heart = pygame.transform.scale(heart, (50, 50))\n",
    "        castle = pygame.transform.scale(castle, (200, 150))\n",
    "        player = pygame.transform.scale(player, (50, 50))\n",
    "        ground = pygame.transform.scale(ground, (400, 300))\n",
    "        \n",
    "        screen.blit(sky, (0, 0))\n",
    "        screen.blit(heart, (20, 20))\n",
    "        screen.blit(castle, (200, 150))\n",
    "        screen.blit(player, (100, 250))\n",
    "        screen.blit(ground, (0, 300))\n",
    "        \n",
    "        pygame.display.update()\n",
    "\n",
    "runGame()\n",
    "pygame.quit()\n"
   ]
  },
  {
   "cell_type": "code",
   "execution_count": 49,
   "id": "periodic-partition",
   "metadata": {},
   "outputs": [
    {
     "data": {
      "text/plain": [
       "'C:\\\\python_test'"
      ]
     },
     "execution_count": 49,
     "metadata": {},
     "output_type": "execute_result"
    }
   ],
   "source": [
    "import os\n",
    "os.getcwd()"
   ]
  },
  {
   "cell_type": "code",
   "execution_count": null,
   "id": "elect-advantage",
   "metadata": {},
   "outputs": [],
   "source": []
  },
  {
   "cell_type": "code",
   "execution_count": null,
   "id": "urban-invalid",
   "metadata": {},
   "outputs": [],
   "source": []
  }
 ],
 "metadata": {
  "kernelspec": {
   "display_name": "Python 3",
   "language": "python",
   "name": "python3"
  },
  "language_info": {
   "codemirror_mode": {
    "name": "ipython",
    "version": 3
   },
   "file_extension": ".py",
   "mimetype": "text/x-python",
   "name": "python",
   "nbconvert_exporter": "python",
   "pygments_lexer": "ipython3",
   "version": "3.8.8"
  }
 },
 "nbformat": 4,
 "nbformat_minor": 5
}

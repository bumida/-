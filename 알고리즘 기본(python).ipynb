{
 "cells": [
  {
   "cell_type": "markdown",
   "id": "agricultural-there",
   "metadata": {},
   "source": [
    "##mini_nana함수는 문자열 a를 매개변수로 입력받는다. a의 길이가 4혹은 6이고, 숫자로만 구성되있는지 확인해주는 함수를 만드세요. \n",
    "##예를들어 a가 문자열 \"123b\" 이면 False를 리턴하고 \"1234\" 이면 True를 리턴하세요."
   ]
  },
  {
   "cell_type": "code",
   "execution_count": 2,
   "id": "authorized-external",
   "metadata": {},
   "outputs": [],
   "source": [
    "def mini_nana(a):\n",
    "    number_of_string = len(a)\n",
    "    try:\n",
    "        float(a)\n",
    "        if number_of_string == 4 or number_of_string == 6:\n",
    "            return True\n",
    "        else:\n",
    "            return False\n",
    "    except ValueError:\n",
    "        return False\n",
    " \n",
    " \n"
   ]
  },
  {
   "cell_type": "code",
   "execution_count": 3,
   "id": "typical-dakota",
   "metadata": {},
   "outputs": [
    {
     "name": "stdout",
     "output_type": "stream",
     "text": [
      "False\n"
     ]
    }
   ],
   "source": [
    "#출력확인\n",
    "print(mini_nana(\"123b\"))"
   ]
  },
  {
   "cell_type": "code",
   "execution_count": 4,
   "id": "dated-pencil",
   "metadata": {},
   "outputs": [
    {
     "name": "stdout",
     "output_type": "stream",
     "text": [
      "True\n"
     ]
    }
   ],
   "source": [
    "print(mini_nana(\"1234\"))"
   ]
  },
  {
   "cell_type": "code",
   "execution_count": null,
   "id": "alternate-civilization",
   "metadata": {},
   "outputs": [],
   "source": []
  }
 ],
 "metadata": {
  "kernelspec": {
   "display_name": "Python 3",
   "language": "python",
   "name": "python3"
  },
  "language_info": {
   "codemirror_mode": {
    "name": "ipython",
    "version": 3
   },
   "file_extension": ".py",
   "mimetype": "text/x-python",
   "name": "python",
   "nbconvert_exporter": "python",
   "pygments_lexer": "ipython3",
   "version": "3.8.8"
  }
 },
 "nbformat": 4,
 "nbformat_minor": 5
}

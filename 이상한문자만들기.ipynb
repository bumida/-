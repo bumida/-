{
 "cells": [
  {
   "cell_type": "markdown",
   "id": "arabic-storm",
   "metadata": {},
   "source": [
    "# 문제(try hello world)\n",
    "WeirdCase함수는 문자열 s를 매개변수로 입력받습니다. 문자열 s에 각 단어의 짝수번째 인덱스 문자는 대문자로, 홀수번째 인덱스 문자는 소문자로 바꾼 문자열을 리턴하도록 함수를 완성하세요. 예를 들어 s가 “try hello world”라면 첫 번째 단어는 “TrY”, 두 번째 단어는 “HeLlO”, 세 번째 단어는 “WoRlD”로 바꿔 “TrY HeLlO WoRlD”를 리턴하면 됩니다.\n",
    "\n"
   ]
  },
  {
   "cell_type": "code",
   "execution_count": null,
   "id": "inside-secretariat",
   "metadata": {},
   "outputs": [],
   "source": [
    "def WeirdCase(s):\n",
    "    def change(t):\n",
    "        result = \"\"\n",
    "        for i, v in enumerate(t):\n",
    "            if i % 2:  # 홀수\n",
    "                result += v.lower()\n",
    "            else:  # 짝수\n",
    "                result += v.upper()\n",
    "        return result\n",
    "    return ' '.join(list(map(change, s.split())))"
   ]
  }
 ],
 "metadata": {
  "kernelspec": {
   "display_name": "Python 3",
   "language": "python",
   "name": "python3"
  },
  "language_info": {
   "codemirror_mode": {
    "name": "ipython",
    "version": 3
   },
   "file_extension": ".py",
   "mimetype": "text/x-python",
   "name": "python",
   "nbconvert_exporter": "python",
   "pygments_lexer": "ipython3",
   "version": "3.8.8"
  }
 },
 "nbformat": 4,
 "nbformat_minor": 5
}
